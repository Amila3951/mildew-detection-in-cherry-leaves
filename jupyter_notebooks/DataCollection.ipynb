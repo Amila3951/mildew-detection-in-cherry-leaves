{
 "cells": [
  {
   "cell_type": "markdown",
   "metadata": {},
   "source": [
    "# Data Collection: Fetching the Cherry Leaves Dataset from Kaggle\n",
    "\n",
    "## Objectives\n",
    "\n",
    "* Download the cherry leaves dataset from Kaggle.\n",
    "\n",
    "## Inputs\n",
    "\n",
    "Kaggle JSON file - the authentication token.\n",
    "\n",
    "## Outputs\n",
    "* Downloaded dataset stored in: `/workspaces/mildew-detection-in-cherry-leaves/data/cherry-leaves`\n"
   ]
  },
  {
   "cell_type": "markdown",
   "metadata": {},
   "source": [
    "## 1. Change Working Directory to Project Root\n",
    "\n",
    "Ensure that the notebook is running from the root directory of the project."
   ]
  },
  {
   "cell_type": "code",
   "execution_count": 2,
   "metadata": {},
   "outputs": [
    {
     "name": "stdout",
     "output_type": "stream",
     "text": [
      "Dataset URL: https://www.kaggle.com/datasets/codeinstitute/cherry-leaves\n",
      "Error downloading or extracting the dataset: (404)\n",
      "Reason: Not Found\n",
      "HTTP response headers: HTTPHeaderDict({'Content-Length': '134', 'Content-Type': 'text/html; charset=UTF-8', 'Date': 'Tue, 04 Mar 2025 18:55:08 GMT', 'Alt-Svc': 'h3=\":443\"; ma=2592000,h3-29=\":443\"; ma=2592000'})\n",
      "HTTP response body: b'<!doctype html><meta charset=\"utf-8\"><meta name=viewport content=\"width=device-width, initial-scale=1\"><title>404</title>404 Not Found'\n",
      "\n"
     ]
    }
   ],
   "source": [
    "import os\n",
    "import pandas as pd\n",
    "import kaggle\n",
    "\n",
    "# Set Kaggle dataset path and local destination\n",
    "KAGGLE_DATASET_PATH = \"codeinstitute/cherry-leaves\"\n",
    "DATA_FOLDER = \"/workspaces/mildew-detection-in-cherry-leaves/data/\"  # Path where the data will be downloaded\n",
    "\n",
    "# 3. # Download and extract the dataset\n",
    "try:\n",
    "    # Create the data folder if it doesn't exist\n",
    "    if not os.path.exists(DATA_FOLDER):\n",
    "        os.makedirs(DATA_FOLDER, exist_ok=True)  # Create the directory if it doesn't exist\n",
    "\n",
    "    kaggle.api.dataset_download_files(KAGGLE_DATASET_PATH, path=DATA_FOLDER, unzip=True)\n",
    "    print(f\"Dataset downloaded and extracted to: {DATA_FOLDER}\")\n",
    "\n",
    "    # Check the contents of the folder (for debugging):\n",
    "    for root, dirs, files in os.walk(DATA_FOLDER):\n",
    "        print(f\"Folder: {root}\")\n",
    "        for file in files:\n",
    "            print(f\"  - {file}\")\n",
    "\n",
    "except Exception as e:\n",
    "    print(f\"Error downloading or extracting the dataset: {e}\")  # Catch exceptions during download/extraction"
   ]
  }
 ],
 "metadata": {
  "kernelspec": {
   "display_name": "Python 3",
   "language": "python",
   "name": "python3"
  },
  "language_info": {
   "codemirror_mode": {
    "name": "ipython",
    "version": 3
   },
   "file_extension": ".py",
   "mimetype": "text/x-python",
   "name": "python",
   "nbconvert_exporter": "python",
   "pygments_lexer": "ipython3",
   "version": "3.12.1"
  }
 },
 "nbformat": 4,
 "nbformat_minor": 2
}
