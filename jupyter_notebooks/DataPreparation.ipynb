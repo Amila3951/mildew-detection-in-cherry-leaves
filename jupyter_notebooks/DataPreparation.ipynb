{
 "cells": [
  {
   "cell_type": "markdown",
   "metadata": {},
   "source": [
    "# Data Preparation for Mildew Detection in Cherry Leaves\n",
    "\n",
    "## Introduction\n",
    "\n",
    "This notebook prepares the dataset for a mildew detection model in cherry leaves. Data cleaning and splitting into train, validation, and test sets are performed."
   ]
  },
  {
   "cell_type": "code",
   "execution_count": 11,
   "metadata": {},
   "outputs": [],
   "source": [
    "# Import necessary libraries for file manipulation and data splitting.\n",
    "\n",
    "import os\n",
    "import shutil\n",
    "import random"
   ]
  },
  {
   "cell_type": "code",
   "execution_count": 12,
   "metadata": {},
   "outputs": [],
   "source": [
    "# Define the path to the raw data directory\n",
    "\n",
    "raw_data_dir = \"/workspaces/mildew-detection-in-cherry-leaves/data/cherry-leaves\""
   ]
  },
  {
   "cell_type": "code",
   "execution_count": 13,
   "metadata": {},
   "outputs": [],
   "source": [
    "# Function to remove non-image files from the specified directory. This ensures only image data is used for model training\n",
    "\n",
    "def remove_non_image_files(directory):\n",
    "    \"\"\"\n",
    "    Removes non-image files from the specified directory.\n",
    "\n",
    "    Args:\n",
    "        directory: The directory to clean.\n",
    "    \"\"\"\n",
    "    image_extensions = ('.png', '.jpg', '.jpeg', '.gif')\n",
    "    for class_name in os.listdir(directory):\n",
    "        class_path = os.path.join(directory, class_name)\n",
    "        if not os.path.isdir(class_path):\n",
    "            continue\n",
    "        files = os.listdir(class_path)\n",
    "        removed = 0\n",
    "        kept = 0\n",
    "        for file in files:\n",
    "            file_path = os.path.join(class_path, file)\n",
    "            if os.path.isfile(file_path) and not file.lower().endswith(image_extensions):\n",
    "                os.remove(file_path)\n",
    "                removed += 1\n",
    "            else:\n",
    "                kept += 1\n",
    "        print(f\"Class: {class_name} - Image files: {kept}, Non-image files: {removed}\")"
   ]
  },
  {
   "cell_type": "code",
   "execution_count": 14,
   "metadata": {},
   "outputs": [
    {
     "name": "stdout",
     "output_type": "stream",
     "text": [
      "Class: train - Image files: 2, Non-image files: 0\n",
      "Class: test - Image files: 2, Non-image files: 0\n",
      "Class: validation - Image files: 2, Non-image files: 0\n"
     ]
    }
   ],
   "source": [
    "# Execute the function to remove non-image files from the raw data directory\n",
    "\n",
    "raw_data_dir = \"/workspaces/mildew-detection-in-cherry-leaves/data/cherry-leaves\"\n",
    "remove_non_image_files(raw_data_dir)"
   ]
  },
  {
   "cell_type": "code",
   "execution_count": null,
   "metadata": {},
   "outputs": [],
   "source": [
    "# Function to split the data into training, validation, and test sets based on specified ratios\n",
    "\n",
    "def split_data_sets(directory, train_ratio, validation_ratio, test_ratio):\n",
    "    \"\"\"\n",
    "    Splits data into train, validation, and test sets within the specified directory.\n",
    "    \"\"\"\n",
    "    if train_ratio + validation_ratio + test_ratio != 1.0:\n",
    "        print(\"Sum of ratios must be 1.0\")\n",
    "        return\n",
    "\n",
    "    # Get class names (directories that are not 'train', 'validation' or 'test')\n",
    "    classes = [c for c in os.listdir(directory) \n",
    "               if os.path.isdir(os.path.join(directory, c)) \n",
    "               and c not in ['train', 'validation', 'test']]\n",
    "\n",
    "    train_counts = {class_name: 0 for class_name in classes}\n",
    "    validation_counts = {class_name: 0 for class_name in classes}\n",
    "    test_counts = {class_name: 0 for class_name in classes}\n",
    "\n",
    "    for data_set in ['train', 'validation', 'test']:\n",
    "        for class_name in classes:\n",
    "            os.makedirs(os.path.join(directory, data_set, class_name), exist_ok=True)\n",
    "\n",
    "    for class_name in classes:\n",
    "        class_path = os.path.join(directory, class_name)\n",
    "        if not os.path.isdir(class_path):\n",
    "            continue\n",
    "        files = os.listdir(class_path)\n",
    "        random.shuffle(files)\n",
    "\n",
    "        train_size = int(len(files) * train_ratio)\n",
    "        validation_size = int(len(files) * validation_ratio)\n",
    "\n",
    "        for i, file in enumerate(files):\n",
    "            source_path = os.path.join(class_path, file)\n",
    "            if i < train_size:\n",
    "                destination_path = os.path.join(directory, 'train', class_name, file)\n",
    "                train_counts[class_name] += 1\n",
    "            elif i < train_size + validation_size:\n",
    "                destination_path = os.path.join(directory, 'validation', class_name, file)\n",
    "                validation_counts[class_name] += 1\n",
    "            else:\n",
    "                destination_path = os.path.join(directory, 'test', class_name, file)\n",
    "                test_counts[class_name] += 1\n",
    "            shutil.move(source_path, destination_path)\n",
    "\n",
    "    # Remove original class directories\n",
    "    for class_name in classes:\n",
    "        class_path = os.path.join(directory, class_name)\n",
    "        if os.path.isdir(class_path):\n",
    "            shutil.rmtree(class_path)\n",
    "\n",
    "    print(\"Data distribution:\")\n",
    "    for class_name in classes:\n",
    "        print(f\"Class: {class_name}\")\n",
    "        print(f\"  Train: {train_counts[class_name]}\")\n",
    "        print(f\"  Validation: {validation_counts[class_name]}\")\n",
    "        print(f\"  Test: {test_counts[class_name]}\")"
   ]
  },
  {
   "cell_type": "code",
   "execution_count": 16,
   "metadata": {},
   "outputs": [
    {
     "name": "stdout",
     "output_type": "stream",
     "text": [
      "Data distribution:\n"
     ]
    }
   ],
   "source": [
    "# Execute the function to split the data into training, validation, and test sets with the specified ratios\n",
    "\n",
    "raw_data_dir = \"/workspaces/mildew-detection-in-cherry-leaves/data/cherry-leaves\"\n",
    "split_data_sets(raw_data_dir, 0.7, 0.15, 0.15)"
   ]
  },
  {
   "cell_type": "markdown",
   "metadata": {},
   "source": [
    "# Conclusions:\n",
    "\n",
    "* Data has been cleaned and split into training, validation, and test sets.\n",
    "* Prepared data is ready for further processing.\n",
    "\n",
    "## Next Steps:\n",
    "\n",
    "* Data Visualization: Verify data quality and distribution.\n",
    "* Exploratory Data Analysis (EDA): Explore image characteristics.\n",
    "* Modeling: Select and train a model.\n",
    "* Evaluation: Verify model performance."
   ]
  }
 ],
 "metadata": {
  "kernelspec": {
   "display_name": "Python 3",
   "language": "python",
   "name": "python3"
  },
  "language_info": {
   "codemirror_mode": {
    "name": "ipython",
    "version": 3
   },
   "file_extension": ".py",
   "mimetype": "text/x-python",
   "name": "python",
   "nbconvert_exporter": "python",
   "pygments_lexer": "ipython3",
   "version": "3.12.1"
  }
 },
 "nbformat": 4,
 "nbformat_minor": 2
}
