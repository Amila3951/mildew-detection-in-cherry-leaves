{
 "cells": [
  {
   "cell_type": "markdown",
   "metadata": {},
   "source": [
    "# Data Analysis and Visualization for Mildew Detection in Cherry Leaves"
   ]
  },
  {
   "cell_type": "markdown",
   "metadata": {},
   "source": [
    "# Objectives\n",
    "\n",
    "Business Requirements 1 - The client wants to carry out a research to visually distinguish between a cherry leaf that has powdery mildew and one that is healthy."
   ]
  },
  {
   "cell_type": "markdown",
   "metadata": {},
   "source": [
    "# Input Data:\n",
    "- /workspaces/mildew-detection-in-cherry-leaves/data/cherry-leaves/train\n",
    "- /workspaces/mildew-detection-in-cherry-leaves/data/cherry-leaves/test\n",
    "- /workspaces/mildew-detection-in-cherry-leaves/data/cherry-leaves/validation"
   ]
  },
  {
   "cell_type": "markdown",
   "metadata": {},
   "source": [
    "# Output Data:\n",
    "1. Serialize image dimensions (pickle file).\n",
    "2. Visualize average images and variability per class.\n",
    "3. Graphically represent differences between healthy and infected leaves.\n",
    "4. Code for Streamlit image montage."
   ]
  },
  {
   "cell_type": "code",
   "execution_count": 4,
   "metadata": {},
   "outputs": [
    {
     "name": "stderr",
     "output_type": "stream",
     "text": [
      "2025-03-10 09:18:30.303885: I tensorflow/core/util/port.cc:153] oneDNN custom operations are on. You may see slightly different numerical results due to floating-point round-off errors from different computation orders. To turn them off, set the environment variable `TF_ENABLE_ONEDNN_OPTS=0`.\n",
      "2025-03-10 09:18:30.306470: I external/local_xla/xla/tsl/cuda/cudart_stub.cc:32] Could not find cuda drivers on your machine, GPU will not be used.\n",
      "2025-03-10 09:18:30.310855: I external/local_xla/xla/tsl/cuda/cudart_stub.cc:32] Could not find cuda drivers on your machine, GPU will not be used.\n",
      "2025-03-10 09:18:30.323683: E external/local_xla/xla/stream_executor/cuda/cuda_fft.cc:477] Unable to register cuFFT factory: Attempting to register factory for plugin cuFFT when one has already been registered\n",
      "WARNING: All log messages before absl::InitializeLog() is called are written to STDERR\n",
      "E0000 00:00:1741598310.338579    6084 cuda_dnn.cc:8310] Unable to register cuDNN factory: Attempting to register factory for plugin cuDNN when one has already been registered\n",
      "E0000 00:00:1741598310.342794    6084 cuda_blas.cc:1418] Unable to register cuBLAS factory: Attempting to register factory for plugin cuBLAS when one has already been registered\n",
      "2025-03-10 09:18:30.358170: I tensorflow/core/platform/cpu_feature_guard.cc:210] This TensorFlow binary is optimized to use available CPU instructions in performance-critical operations.\n",
      "To enable the following instructions: AVX2 AVX512F AVX512_VNNI FMA, in other operations, rebuild TensorFlow with the appropriate compiler flags.\n"
     ]
    }
   ],
   "source": [
    "# Import Libraries\n",
    "\n",
    "import os\n",
    "import pandas as pd\n",
    "import numpy as np\n",
    "import matplotlib.pyplot as plt\n",
    "import seaborn as sns\n",
    "import joblib\n",
    "from matplotlib.image import imread\n",
    "from tensorflow.keras.preprocessing import image\n",
    "import matplotlib.colors as colors\n",
    "\n",
    "sns.set_style(\"whitegrid\")"
   ]
  },
  {
   "cell_type": "code",
   "execution_count": 5,
   "metadata": {},
   "outputs": [
    {
     "name": "stdout",
     "output_type": "stream",
     "text": [
      "Base Directory: /workspaces/mildew-detection-in-cherry-leaves/data/cherry-leaves\n",
      "Train Path: /workspaces/mildew-detection-in-cherry-leaves/data/cherry-leaves/train\n",
      "Validation Path: /workspaces/mildew-detection-in-cherry-leaves/data/cherry-leaves/validation\n",
      "Test Path: /workspaces/mildew-detection-in-cherry-leaves/data/cherry-leaves/test\n"
     ]
    }
   ],
   "source": [
    "# Defining Data Paths\n",
    "\n",
    "base_directory = '/workspaces/mildew-detection-in-cherry-leaves/data/cherry-leaves'\n",
    "train_path = os.path.join(base_directory, 'train')\n",
    "validation_path = os.path.join(base_directory, 'validation')\n",
    "test_path = os.path.join(base_directory, 'test')\n",
    "\n",
    "print(f\"Base Directory: {base_directory}\")\n",
    "print(f\"Train Path: {train_path}\")\n",
    "print(f\"Validation Path: {validation_path}\")\n",
    "print(f\"Test Path: {test_path}\")"
   ]
  },
  {
   "cell_type": "code",
   "execution_count": 6,
   "metadata": {},
   "outputs": [
    {
     "name": "stdout",
     "output_type": "stream",
     "text": [
      "Root Directory: /workspaces/mildew-detection-in-cherry-leaves\n",
      "Output Path Images: /workspaces/mildew-detection-in-cherry-leaves/outputs/v1\n",
      "Output Path Shape: /workspaces/mildew-detection-in-cherry-leaves/outputs/v2\n"
     ]
    }
   ],
   "source": [
    "# Setting Output Directory\n",
    "version_images = 'v1'\n",
    "version_shape = 'v2' \n",
    "# Get the root directory of the project\n",
    "root_dir = os.path.abspath(os.path.join(os.getcwd(), '..'))\n",
    "\n",
    "# Create the output path within the root directory\n",
    "output_path_images = os.path.join(root_dir, 'outputs', version_images)\n",
    "output_path_shape = os.path.join(root_dir, 'outputs', version_shape)\n",
    "os.makedirs(output_path_images, exist_ok=True)\n",
    "os.makedirs(output_path_shape, exist_ok=True)\n",
    "\n",
    "print(f\"Root Directory: {root_dir}\")\n",
    "print(f\"Output Path Images: {output_path_images}\")\n",
    "print(f\"Output Path Shape: {output_path_shape}\")"
   ]
  },
  {
   "cell_type": "code",
   "execution_count": 7,
   "metadata": {},
   "outputs": [
    {
     "name": "stdout",
     "output_type": "stream",
     "text": [
      "Classes:  ['powdery_mildew', 'healthy']\n"
     ]
    }
   ],
   "source": [
    "# Identifying Classes\n",
    "classes = os.listdir(train_path)\n",
    "print(\"Classes: \", classes)"
   ]
  },
  {
   "cell_type": "code",
   "execution_count": 8,
   "metadata": {},
   "outputs": [
    {
     "data": {
      "text/plain": [
       "['/workspaces/mildew-detection-in-cherry-leaves/outputs/v2/image_shape.pkl']"
      ]
     },
     "execution_count": 8,
     "metadata": {},
     "output_type": "execute_result"
    }
   ],
   "source": [
    "# Analyzing Image Shapes\n",
    "heights, widths = [], []\n",
    "for cls in classes:\n",
    "    for file in os.listdir(os.path.join(train_path, cls)):\n",
    "        img = imread(os.path.join(train_path, cls, file))\n",
    "        h, w, _ = img.shape\n",
    "        heights.append(h)\n",
    "        widths.append(w)\n",
    "\n",
    "image_shape = (100, 100, 3)\n",
    "joblib.dump(image_shape, os.path.join(output_path_shape, 'image_shape.pkl'))"
   ]
  },
  {
   "cell_type": "code",
   "execution_count": 11,
   "metadata": {},
   "outputs": [
    {
     "data": {
      "image/png": "[encoded data removed]",
      "text/plain": [
       "<Figure size 640x480 with 1 Axes>"
      ]
     },
     "metadata": {},
     "output_type": "display_data"
    },
    {
     "name": "stdout",
     "output_type": "stream",
     "text": [
      "Width average: 256 \n",
      "Height average: 256\n"
     ]
    }
   ],
   "source": [
    "dim1, dim2 = [], []\n",
    "for label in classes:\n",
    "    for image_filename in os.listdir(os.path.join(train_path, label)):\n",
    "        img = imread(os.path.join(train_path, label, image_filename))\n",
    "        d1, d2, colors = img.shape\n",
    "        dim1.append(d1)  \n",
    "        dim2.append(d2)  \n",
    "\n",
    "sns.set_style(\"whitegrid\")\n",
    "fig, axes = plt.subplots()\n",
    "sns.scatterplot(x=dim2, y=dim1, alpha=0.8, s=200, color='yellow')\n",
    "axes.set_xlabel(\"Width (pixels)\")\n",
    "axes.set_ylabel(\"Height (pixels)\")\n",
    "\n",
    "dim1_mean = int(np.array(dim1).mean())\n",
    "dim2_mean = int(np.array(dim2).mean())\n",
    "axes.axvline(x=dim2_mean, color='m', linestyle=':')\n",
    "axes.axhline(y=dim1_mean, color='c', linestyle=':')\n",
    "\n",
    "\n",
    "plt.savefig(os.path.join(output_path_shape, 'avg_img_size.png'), bbox_inches='tight', dpi=150)\n",
    "plt.show()\n",
    "\n",
    "print(f\"Width average: {dim2_mean} \\nHeight average: {dim1_mean}\")"
   ]
  },
  {
   "cell_type": "code",
   "execution_count": null,
   "metadata": {},
   "outputs": [],
   "source": [
    "# Visualizing Average Images and Variability\n",
    "def load_images_as_array(directory, new_size=(80, 80), num_images=25):\n",
    "    X, y = [], []\n",
    "    for cls in classes:\n",
    "        loaded = 0\n",
    "        for file in os.listdir(os.path.join(directory, cls)):\n",
    "            if loaded < num_images:\n",
    "                img = image.load_img(os.path.join(directory, cls, file), target_size=new_size)\n",
    "                img_array = image.img_to_array(img) / 255.0\n",
    "                X.append(img_array)\n",
    "                y.append(cls)\n",
    "                loaded += 1\n",
    "    return np.array(X), np.array(y)\n",
    "\n",
    "X_train, y_train = load_images_as_array(train_path)\n",
    "\n",
    "def display_average_and_variability(X, y, output_path):\n",
    "    for cls in np.unique(y):\n",
    "        class_images = X[y == cls]\n",
    "        average_image = np.mean(class_images, axis=0)\n",
    "        variability_image = np.std(class_images, axis=0)\n",
    "\n",
    "        fig, axes = plt.subplots(1, 2, figsize=(10, 5))\n",
    "\n",
    "        # Display average image without grid\n",
    "        axes[0].imshow(average_image)\n",
    "        axes[0].set_title(f'Average: {cls}')\n",
    "        axes[0].axis('off')  # Turn off axes and grid\n",
    "\n",
    "        # Display variability image without grid\n",
    "        axes[1].imshow(variability_image)\n",
    "        axes[1].set_title(f'Variability: {cls}')\n",
    "        axes[1].axis('off')  # Turn off axes and grid\n",
    "\n",
    "        plt.savefig(os.path.join(output_path, f'average_variability_{cls}.png'))\n",
    "        plt.show()\n",
    "\n",
    "display_average_and_variability(X_train, y_train, output_path_images)"
   ]
  },
  {
   "cell_type": "code",
   "execution_count": null,
   "metadata": {},
   "outputs": [],
   "source": [
    "# Visualizing Differences Between Classes\n",
    "\n",
    "def visualize_class_differences(X, y, class1, class2, output_path, figsize=(20, 5)):\n",
    "    \"\"\"\n",
    "    Visualizes the average images and their difference for two specified classes.\n",
    "    \"\"\"\n",
    "\n",
    "    if class1 not in np.unique(y) or class2 not in np.unique(y):\n",
    "        print(f\"Error: Either '{class1}' or '{class2}' is not a valid class.\")\n",
    "        return\n",
    "\n",
    "    # Separate images based on class labels\n",
    "    images_class1 = X[y == class1]\n",
    "    images_class2 = X[y == class2]\n",
    "\n",
    "    # Calculate average images\n",
    "    avg_image_class1 = np.mean(images_class1, axis=0)\n",
    "    avg_image_class2 = np.mean(images_class2, axis=0)\n",
    "\n",
    "    # Calculate the difference between the average images\n",
    "    difference_image = avg_image_class1 - avg_image_class2\n",
    "\n",
    "    # Create subplots for visualization\n",
    "    fig, axes = plt.subplots(nrows=1, ncols=3, figsize=figsize)\n",
    "\n",
    "    # Display the average images and the difference image\n",
    "    axes[0].imshow(avg_image_class1, cmap='gray')\n",
    "    axes[0].set_title(f'Average: {class1}')\n",
    "    axes[0].axis('off')  # Hide axis\n",
    "\n",
    "    axes[1].imshow(avg_image_class2, cmap='gray')\n",
    "    axes[1].set_title(f'Average: {class2}')\n",
    "    axes[1].axis('off')  # Hide axis\n",
    "\n",
    "    axes[2].imshow(difference_image, cmap='gray')\n",
    "    axes[2].set_title(f'Difference: {class1} - {class2}')\n",
    "    axes[2].axis('off')  # Hide axis\n",
    "\n",
    "    plt.tight_layout()\n",
    "    plt.savefig(os.path.join(output_path, f'class_differences_{class1}_{class2}.png'), bbox_inches='tight', dpi=150)\n",
    "    plt.show()\n",
    "\n",
    "# Example usage:\n",
    "visualize_class_differences(X_train, y_train, classes[0], classes[1], output_path_images, figsize=(14, 10))"
   ]
  },
  {
   "cell_type": "code",
   "execution_count": null,
   "metadata": {},
   "outputs": [],
   "source": [
    "# Image Montage\n",
    "import random\n",
    "\n",
    "def create_montage(directory, cls, rows=3, columns=4):\n",
    "    class_path = os.path.join(directory, cls)\n",
    "    files = os.listdir(class_path)\n",
    "    random_files = random.sample(files, min(rows * columns, len(files)))\n",
    "\n",
    "    fig, axes = plt.subplots(rows, columns, figsize=(12, 9))\n",
    "    axes = axes.flatten()\n",
    "\n",
    "    for i, file in enumerate(random_files):\n",
    "        img = imread(os.path.join(class_path, file))\n",
    "        axes[i].imshow(img)\n",
    "        axes[i].set_title(cls.capitalize())\n",
    "        axes[i].axis('off')\n",
    "\n",
    "    plt.tight_layout()\n",
    "    plt.show()\n",
    "\n",
    "for cls in classes:\n",
    "    create_montage(train_path, cls)"
   ]
  },
  {
   "cell_type": "markdown",
   "metadata": {},
   "source": [
    "## Conclusions and Next Steps\n",
    "\n",
    "* **Image Dimension Analysis:** Image dimensions were analyzed and saved for model input configuration.\n",
    "* **Average Image and Variability Visualization:** Average images and variability were visualized, revealing class characteristics. Average images highlight clear visual differences between healthy and infected leaves (e.g., color changes). Variability within classes emphasizes the diversity of leaf appearances.\n",
    "* **Difference Visualization:** Differences between healthy and infected leaves were visualized, highlighting areas of greatest change (e.g., concentration of differences at leaf edges).\n",
    "* **Image Montage:** Image montage functionality was implemented for interactive data exploration within the Streamlit application.\n",
    "\n",
    "### Next Steps\n",
    "\n",
    "* Proceed with model training for mildew detection.\n",
    "* Evaluate and refine the model to optimize accuracy.\n",
    "* Integrate visualizations into the Streamlit application.\n",
    "* Perform further analysis and data augmentation as needed."
   ]
  }
 ],
 "metadata": {
  "kernelspec": {
   "display_name": "Python 3",
   "language": "python",
   "name": "python3"
  },
  "language_info": {
   "codemirror_mode": {
    "name": "ipython",
    "version": 3
   },
   "file_extension": ".py",
   "mimetype": "text/x-python",
   "name": "python",
   "nbconvert_exporter": "python",
   "pygments_lexer": "ipython3",
   "version": "3.12.1"
  }
 },
 "nbformat": 4,
 "nbformat_minor": 2
}
